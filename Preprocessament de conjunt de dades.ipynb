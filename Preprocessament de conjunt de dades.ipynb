{
 "cells": [
  {
   "cell_type": "markdown",
   "metadata": {},
   "source": [
    "## Preprocessament dels conjunts de dades"
   ]
  },
  {
   "cell_type": "code",
   "execution_count": 1,
   "metadata": {},
   "outputs": [
    {
     "name": "stdout",
     "output_type": "stream",
     "text": [
      "Requirement already satisfied: ydata-profiling in c:\\users\\jesus\\appdata\\local\\programs\\python\\python310\\lib\\site-packages (4.16.1)\n",
      "Requirement already satisfied: pydantic>=2 in c:\\users\\jesus\\appdata\\local\\programs\\python\\python310\\lib\\site-packages (from ydata-profiling) (2.11.3)\n",
      "Requirement already satisfied: pandas!=1.4.0,<3.0,>1.1 in c:\\users\\jesus\\appdata\\local\\programs\\python\\python310\\lib\\site-packages (from ydata-profiling) (2.2.3)\n",
      "Requirement already satisfied: statsmodels<1,>=0.13.2 in c:\\users\\jesus\\appdata\\local\\programs\\python\\python310\\lib\\site-packages (from ydata-profiling) (0.14.4)\n",
      "Requirement already satisfied: imagehash==4.3.1 in c:\\users\\jesus\\appdata\\local\\programs\\python\\python310\\lib\\site-packages (from ydata-profiling) (4.3.1)\n",
      "Requirement already satisfied: wordcloud>=1.9.3 in c:\\users\\jesus\\appdata\\local\\programs\\python\\python310\\lib\\site-packages (from ydata-profiling) (1.9.4)\n",
      "Requirement already satisfied: jinja2<3.2,>=2.11.1 in c:\\users\\jesus\\appdata\\local\\programs\\python\\python310\\lib\\site-packages (from ydata-profiling) (3.1.6)\n",
      "Requirement already satisfied: multimethod<2,>=1.4 in c:\\users\\jesus\\appdata\\local\\programs\\python\\python310\\lib\\site-packages (from ydata-profiling) (1.12)\n",
      "Requirement already satisfied: visions[type_image_path]<0.8.2,>=0.7.5 in c:\\users\\jesus\\appdata\\local\\programs\\python\\python310\\lib\\site-packages (from ydata-profiling) (0.8.1)\n",
      "Requirement already satisfied: matplotlib<=3.10,>=3.5 in c:\\users\\jesus\\appdata\\local\\programs\\python\\python310\\lib\\site-packages (from ydata-profiling) (3.10.0)\n",
      "Requirement already satisfied: numpy<2.2,>=1.16.0 in c:\\users\\jesus\\appdata\\local\\programs\\python\\python310\\lib\\site-packages (from ydata-profiling) (2.1.3)\n",
      "Requirement already satisfied: numba<=0.61,>=0.56.0 in c:\\users\\jesus\\appdata\\local\\programs\\python\\python310\\lib\\site-packages (from ydata-profiling) (0.61.0)\n",
      "Requirement already satisfied: tqdm<5,>=4.48.2 in c:\\users\\jesus\\appdata\\local\\programs\\python\\python310\\lib\\site-packages (from ydata-profiling) (4.67.1)\n",
      "Requirement already satisfied: dacite>=1.8 in c:\\users\\jesus\\appdata\\local\\programs\\python\\python310\\lib\\site-packages (from ydata-profiling) (1.9.2)\n",
      "Requirement already satisfied: requests<3,>=2.24.0 in c:\\users\\jesus\\appdata\\local\\programs\\python\\python310\\lib\\site-packages (from ydata-profiling) (2.32.3)\n",
      "Requirement already satisfied: phik<0.13,>=0.11.1 in c:\\users\\jesus\\appdata\\local\\programs\\python\\python310\\lib\\site-packages (from ydata-profiling) (0.12.4)\n",
      "Requirement already satisfied: PyYAML<6.1,>=5.0.0 in c:\\users\\jesus\\appdata\\local\\programs\\python\\python310\\lib\\site-packages (from ydata-profiling) (6.0.2)\n",
      "Requirement already satisfied: scipy<1.16,>=1.4.1 in c:\\users\\jesus\\appdata\\local\\programs\\python\\python310\\lib\\site-packages (from ydata-profiling) (1.15.2)\n",
      "Requirement already satisfied: htmlmin==0.1.12 in c:\\users\\jesus\\appdata\\local\\programs\\python\\python310\\lib\\site-packages (from ydata-profiling) (0.1.12)\n",
      "Requirement already satisfied: seaborn<0.14,>=0.10.1 in c:\\users\\jesus\\appdata\\local\\programs\\python\\python310\\lib\\site-packages (from ydata-profiling) (0.13.2)\n",
      "Requirement already satisfied: typeguard<5,>=3 in c:\\users\\jesus\\appdata\\local\\programs\\python\\python310\\lib\\site-packages (from ydata-profiling) (4.4.2)\n",
      "Requirement already satisfied: pillow in c:\\users\\jesus\\appdata\\local\\programs\\python\\python310\\lib\\site-packages (from imagehash==4.3.1->ydata-profiling) (11.1.0)\n",
      "Requirement already satisfied: PyWavelets in c:\\users\\jesus\\appdata\\local\\programs\\python\\python310\\lib\\site-packages (from imagehash==4.3.1->ydata-profiling) (1.8.0)\n",
      "Requirement already satisfied: MarkupSafe>=2.0 in c:\\users\\jesus\\appdata\\local\\programs\\python\\python310\\lib\\site-packages (from jinja2<3.2,>=2.11.1->ydata-profiling) (3.0.2)\n",
      "Requirement already satisfied: fonttools>=4.22.0 in c:\\users\\jesus\\appdata\\local\\programs\\python\\python310\\lib\\site-packages (from matplotlib<=3.10,>=3.5->ydata-profiling) (4.56.0)\n",
      "Requirement already satisfied: cycler>=0.10 in c:\\users\\jesus\\appdata\\local\\programs\\python\\python310\\lib\\site-packages (from matplotlib<=3.10,>=3.5->ydata-profiling) (0.12.1)\n",
      "Requirement already satisfied: kiwisolver>=1.3.1 in c:\\users\\jesus\\appdata\\local\\programs\\python\\python310\\lib\\site-packages (from matplotlib<=3.10,>=3.5->ydata-profiling) (1.4.8)\n",
      "Requirement already satisfied: python-dateutil>=2.7 in c:\\users\\jesus\\appdata\\roaming\\python\\python310\\site-packages (from matplotlib<=3.10,>=3.5->ydata-profiling) (2.9.0.post0)\n",
      "Requirement already satisfied: packaging>=20.0 in c:\\users\\jesus\\appdata\\roaming\\python\\python310\\site-packages (from matplotlib<=3.10,>=3.5->ydata-profiling) (24.2)\n",
      "Requirement already satisfied: pyparsing>=2.3.1 in c:\\users\\jesus\\appdata\\local\\programs\\python\\python310\\lib\\site-packages (from matplotlib<=3.10,>=3.5->ydata-profiling) (3.2.1)\n",
      "Requirement already satisfied: contourpy>=1.0.1 in c:\\users\\jesus\\appdata\\local\\programs\\python\\python310\\lib\\site-packages (from matplotlib<=3.10,>=3.5->ydata-profiling) (1.3.1)\n",
      "Requirement already satisfied: llvmlite<0.45,>=0.44.0dev0 in c:\\users\\jesus\\appdata\\local\\programs\\python\\python310\\lib\\site-packages (from numba<=0.61,>=0.56.0->ydata-profiling) (0.44.0)\n",
      "Requirement already satisfied: tzdata>=2022.7 in c:\\users\\jesus\\appdata\\local\\programs\\python\\python310\\lib\\site-packages (from pandas!=1.4.0,<3.0,>1.1->ydata-profiling) (2025.1)\n",
      "Requirement already satisfied: pytz>=2020.1 in c:\\users\\jesus\\appdata\\local\\programs\\python\\python310\\lib\\site-packages (from pandas!=1.4.0,<3.0,>1.1->ydata-profiling) (2025.1)\n",
      "Requirement already satisfied: joblib>=0.14.1 in c:\\users\\jesus\\appdata\\local\\programs\\python\\python310\\lib\\site-packages (from phik<0.13,>=0.11.1->ydata-profiling) (1.4.2)\n",
      "Requirement already satisfied: annotated-types>=0.6.0 in c:\\users\\jesus\\appdata\\local\\programs\\python\\python310\\lib\\site-packages (from pydantic>=2->ydata-profiling) (0.7.0)\n",
      "Requirement already satisfied: typing-inspection>=0.4.0 in c:\\users\\jesus\\appdata\\local\\programs\\python\\python310\\lib\\site-packages (from pydantic>=2->ydata-profiling) (0.4.0)\n",
      "Requirement already satisfied: typing-extensions>=4.12.2 in c:\\users\\jesus\\appdata\\roaming\\python\\python310\\site-packages (from pydantic>=2->ydata-profiling) (4.12.2)\n",
      "Requirement already satisfied: pydantic-core==2.33.1 in c:\\users\\jesus\\appdata\\local\\programs\\python\\python310\\lib\\site-packages (from pydantic>=2->ydata-profiling) (2.33.1)\n",
      "Requirement already satisfied: six>=1.5 in c:\\users\\jesus\\appdata\\roaming\\python\\python310\\site-packages (from python-dateutil>=2.7->matplotlib<=3.10,>=3.5->ydata-profiling) (1.17.0)\n",
      "Requirement already satisfied: charset-normalizer<4,>=2 in c:\\users\\jesus\\appdata\\local\\programs\\python\\python310\\lib\\site-packages (from requests<3,>=2.24.0->ydata-profiling) (3.4.1)\n",
      "Requirement already satisfied: urllib3<3,>=1.21.1 in c:\\users\\jesus\\appdata\\local\\programs\\python\\python310\\lib\\site-packages (from requests<3,>=2.24.0->ydata-profiling) (2.3.0)\n",
      "Requirement already satisfied: idna<4,>=2.5 in c:\\users\\jesus\\appdata\\local\\programs\\python\\python310\\lib\\site-packages (from requests<3,>=2.24.0->ydata-profiling) (3.10)\n",
      "Requirement already satisfied: certifi>=2017.4.17 in c:\\users\\jesus\\appdata\\local\\programs\\python\\python310\\lib\\site-packages (from requests<3,>=2.24.0->ydata-profiling) (2025.1.31)\n",
      "Requirement already satisfied: patsy>=0.5.6 in c:\\users\\jesus\\appdata\\local\\programs\\python\\python310\\lib\\site-packages (from statsmodels<1,>=0.13.2->ydata-profiling) (1.0.1)\n",
      "Requirement already satisfied: colorama in c:\\users\\jesus\\appdata\\roaming\\python\\python310\\site-packages (from tqdm<5,>=4.48.2->ydata-profiling) (0.4.6)\n",
      "Requirement already satisfied: networkx>=2.4 in c:\\users\\jesus\\appdata\\local\\programs\\python\\python310\\lib\\site-packages (from visions[type_image_path]<0.8.2,>=0.7.5->ydata-profiling) (3.4.2)\n",
      "Requirement already satisfied: puremagic in c:\\users\\jesus\\appdata\\local\\programs\\python\\python310\\lib\\site-packages (from visions[type_image_path]<0.8.2,>=0.7.5->ydata-profiling) (1.28)\n",
      "Requirement already satisfied: attrs>=19.3.0 in c:\\users\\jesus\\appdata\\local\\programs\\python\\python310\\lib\\site-packages (from visions[type_image_path]<0.8.2,>=0.7.5->ydata-profiling) (25.3.0)\n"
     ]
    },
    {
     "name": "stderr",
     "output_type": "stream",
     "text": [
      "WARNING: Ignoring invalid distribution -atplotlib (c:\\users\\jesus\\appdata\\local\\programs\\python\\python310\\lib\\site-packages)\n",
      "WARNING: Ignoring invalid distribution -atplotlib (c:\\users\\jesus\\appdata\\local\\programs\\python\\python310\\lib\\site-packages)\n",
      "WARNING: visions 0.8.1 does not provide the extra 'type_image_path'\n",
      "WARNING: Ignoring invalid distribution -atplotlib (c:\\users\\jesus\\appdata\\local\\programs\\python\\python310\\lib\\site-packages)\n",
      "WARNING: Ignoring invalid distribution -atplotlib (c:\\users\\jesus\\appdata\\local\\programs\\python\\python310\\lib\\site-packages)\n",
      "WARNING: Ignoring invalid distribution -atplotlib (c:\\users\\jesus\\appdata\\local\\programs\\python\\python310\\lib\\site-packages)\n",
      "WARNING: Ignoring invalid distribution -atplotlib (c:\\users\\jesus\\appdata\\local\\programs\\python\\python310\\lib\\site-packages)\n",
      "WARNING: You are using pip version 21.2.3; however, version 25.1.1 is available.\n",
      "You should consider upgrading via the 'C:\\Users\\jesus\\AppData\\Local\\Programs\\Python\\Python310\\python.exe -m pip install --upgrade pip' command.\n"
     ]
    }
   ],
   "source": [
    "! pip install ydata-profiling"
   ]
  },
  {
   "cell_type": "code",
   "execution_count": 2,
   "metadata": {},
   "outputs": [
    {
     "name": "stdout",
     "output_type": "stream",
     "text": [
      "Requirement already satisfied: gitpython in c:\\users\\jesus\\appdata\\local\\programs\\python\\python310\\lib\\site-packages (3.1.44)\n",
      "Requirement already satisfied: gitdb<5,>=4.0.1 in c:\\users\\jesus\\appdata\\local\\programs\\python\\python310\\lib\\site-packages (from gitpython) (4.0.12)\n",
      "Requirement already satisfied: smmap<6,>=3.0.1 in c:\\users\\jesus\\appdata\\local\\programs\\python\\python310\\lib\\site-packages (from gitdb<5,>=4.0.1->gitpython) (5.0.2)\n"
     ]
    },
    {
     "name": "stderr",
     "output_type": "stream",
     "text": [
      "WARNING: Ignoring invalid distribution -atplotlib (c:\\users\\jesus\\appdata\\local\\programs\\python\\python310\\lib\\site-packages)\n",
      "WARNING: Ignoring invalid distribution -atplotlib (c:\\users\\jesus\\appdata\\local\\programs\\python\\python310\\lib\\site-packages)\n",
      "WARNING: Ignoring invalid distribution -atplotlib (c:\\users\\jesus\\appdata\\local\\programs\\python\\python310\\lib\\site-packages)\n",
      "WARNING: Ignoring invalid distribution -atplotlib (c:\\users\\jesus\\appdata\\local\\programs\\python\\python310\\lib\\site-packages)\n",
      "WARNING: Ignoring invalid distribution -atplotlib (c:\\users\\jesus\\appdata\\local\\programs\\python\\python310\\lib\\site-packages)\n",
      "WARNING: Ignoring invalid distribution -atplotlib (c:\\users\\jesus\\appdata\\local\\programs\\python\\python310\\lib\\site-packages)\n",
      "WARNING: You are using pip version 21.2.3; however, version 25.1.1 is available.\n",
      "You should consider upgrading via the 'C:\\Users\\jesus\\AppData\\Local\\Programs\\Python\\Python310\\python.exe -m pip install --upgrade pip' command.\n"
     ]
    }
   ],
   "source": [
    "! pip install gitpython\n"
   ]
  },
  {
   "cell_type": "code",
   "execution_count": 3,
   "metadata": {},
   "outputs": [
    {
     "name": "stderr",
     "output_type": "stream",
     "text": [
      "c:\\Users\\jesus\\AppData\\Local\\Programs\\Python\\Python310\\lib\\site-packages\\tqdm\\auto.py:21: TqdmWarning: IProgress not found. Please update jupyter and ipywidgets. See https://ipywidgets.readthedocs.io/en/stable/user_install.html\n",
      "  from .autonotebook import tqdm as notebook_tqdm\n"
     ]
    },
    {
     "data": {
      "text/html": [
       "\n",
       "            <div>\n",
       "                <ins><a href=\"https://ydata.ai/register\">Upgrade to ydata-sdk</a></ins>\n",
       "                <p>\n",
       "                    Improve your data and profiling with ydata-sdk, featuring data quality scoring, redundancy detection, outlier identification, text validation, and synthetic data generation.\n",
       "                </p>\n",
       "            </div>\n",
       "            "
      ],
      "text/plain": [
       "<IPython.core.display.HTML object>"
      ]
     },
     "metadata": {},
     "output_type": "display_data"
    },
    {
     "name": "stderr",
     "output_type": "stream",
     "text": [
      "C:\\Users\\jesus\\AppData\\Local\\Temp\\ipykernel_17068\\2079636952.py:8: DeprecationWarning: `import pandas_profiling` is going to be deprecated by April 1st. Please use `import ydata_profiling` instead.\n",
      "  from pandas_profiling import ProfileReport\n"
     ]
    }
   ],
   "source": [
    "from ydata_profiling import ProfileReport\n",
    "import pandas as pd\n",
    "from datetime import datetime\n",
    "import matplotlib.pyplot as plt\n",
    "import numpy as np\n",
    "import git\n",
    "import os\n",
    "from pandas_profiling import ProfileReport"
   ]
  },
  {
   "cell_type": "markdown",
   "metadata": {},
   "source": [
    "Tranformar Dataset (Eliminació i canvi del ordre de les columnes, canvi del noms dels atributs, canvi del tipus de dades)"
   ]
  },
  {
   "cell_type": "code",
   "execution_count": null,
   "metadata": {},
   "outputs": [
    {
     "name": "stdout",
     "output_type": "stream",
     "text": [
      "CSV transformat\n"
     ]
    }
   ],
   "source": [
    "def check_and_transform_csv(file_path,  column_mapping):\n",
    "    \n",
    "    expected_columns = [\"Date\", \"Open\", \"High\", \"Low\", \"Close\", \"Volume\"]\n",
    "\n",
    "    # Carregar el CSV correctament\n",
    "    df = pd.read_csv(file_path)\n",
    "    \n",
    "    # Comprovar si ja té el format correcte\n",
    "    if list(df.columns) == expected_columns:\n",
    "        print(\"El CSV ja té el format correcte. No s'han fet canvis.\")\n",
    "        return df\n",
    "    \n",
    "    # Verificar que totes les columnes de mapping existeixen al CSV\n",
    "    if not set(column_mapping.keys()).issubset(set(df.columns)):\n",
    "        raise ValueError(\"Algunes columnes del mapping no existeixen en el CSV proporcionat. Revisa les dades d'entrada.\")\n",
    "    \n",
    "    # Renombrar les columnes segons el mapping proporcionat\n",
    "    df.rename(columns=column_mapping, inplace=True)\n",
    "    \n",
    "    # Reordenar les columnes segons el format esperat\n",
    "    df = df[expected_columns]\n",
    "\n",
    "    print(f\"CSV transformat\")\n",
    "    return df\n",
    "\n",
    "\n",
    "column_mapping = {\"Fecha\": \"Date\", \"Apertura\": \"Open\", \"Máximo\": \"High\", \"Mínimo\": \"Low\", \"Último\": \"Close\", \"Vol.\": \"Volume\"}\n",
    "df = check_and_transform_csv(\"Conjunt de dades/stock_price_Euro_Stoxx_50.csv\", column_mapping)\n"
   ]
  },
  {
   "cell_type": "code",
   "execution_count": 5,
   "metadata": {},
   "outputs": [
    {
     "name": "stdout",
     "output_type": "stream",
     "text": [
      "        Date   Open   High    Low  Close      Volume\n",
      "0 2020-01-02  67.42  68.43  67.32  68.43  27290000.0\n",
      "1 2020-01-03  67.40  68.69  67.37  68.08  23410000.0\n",
      "2 2020-01-06  67.58  69.92  67.55  69.89  46790000.0\n",
      "3 2020-01-07  70.02  70.17  69.58  69.76  34530000.0\n",
      "4 2020-01-08  69.74  70.59  69.63  70.25  35330000.0\n"
     ]
    }
   ],
   "source": [
    "def transform_dtypes(df):\n",
    "    # Comprovar si la columna 'Date' ja és de tipus datetime\n",
    "    if not pd.api.types.is_datetime64_any_dtype(df['Date']):\n",
    "        # Convertir la columna \"Date\" a datetime amb el format correcte (dia.mes.any)\n",
    "        df['Date'] = pd.to_datetime(df['Date'], format='%d.%m.%Y', errors='coerce')\n",
    "        \n",
    "    # Classificar les dates en ordre ascendent\n",
    "    df = df.sort_values(by='Date', ascending=True).reset_index(drop=True)\n",
    "\n",
    "    # Comprovar si les columnes 'Open', 'Close', 'Low', 'High' són numèriques\n",
    "    for col in ['Open', 'Close', 'Low', 'High']:\n",
    "        if not pd.api.types.is_numeric_dtype(df[col]):\n",
    "            # Substituir les comes per punts en les columnes de preus\n",
    "            df[col] = df[col].replace({',': '.'}, regex=True)\n",
    "            # Convertir les columnes a numèrics\n",
    "            df[col] = pd.to_numeric(df[col])\n",
    "\n",
    "    # Comprovar si la columna 'Volume' és numèrica\n",
    "    if not pd.api.types.is_numeric_dtype(df['Volume']):\n",
    "        # Substituir les comes per punts i eliminar la \"M\"\n",
    "        df['Volume'] = df['Volume'].replace({',': '.'}, regex=True)\n",
    "        df['Volume'] = df['Volume'].str.replace('M', '').astype(float) * 1_000_000  # Convertir a milions\n",
    "\n",
    "    return df\n",
    "\n",
    "df = transform_dtypes(df)\n",
    "print(df.head())\n"
   ]
  },
  {
   "cell_type": "markdown",
   "metadata": {},
   "source": [
    "Crear informe complet del Dataset"
   ]
  },
  {
   "cell_type": "code",
   "execution_count": null,
   "metadata": {},
   "outputs": [
    {
     "name": "stderr",
     "output_type": "stream",
     "text": [
      "100%|██████████| 6/6 [00:00<00:00, 2842.95it/s]<?, ?it/s, Describe variable: Volume]\n",
      "Summarize dataset: 100%|██████████| 40/40 [00:01<00:00, 20.12it/s, Completed]                 \n",
      "Generate report structure: 100%|██████████| 1/1 [00:01<00:00,  1.16s/it]\n",
      "Render HTML: 100%|██████████| 1/1 [00:00<00:00,  1.76it/s]\n",
      "Export report to file: 100%|██████████| 1/1 [00:00<00:00, 171.92it/s]\n"
     ]
    }
   ],
   "source": [
    "def Report(df):\n",
    "    report_path = \"Conjunt de dades Preprocessades/Report dels conjunts de dades/Euro_Stoxx_50_Report.html\"\n",
    "    profile = ProfileReport(df, title=\"Pandas Profiling Report\")\n",
    "    profile.to_file(report_path)\n",
    "\n",
    "    # Assumeixes que ja tens el repositori clonado\n",
    "    repo = git.Repo(os.getcwd())\n",
    "    repo.git.add(report_path)\n",
    "    repo.index.commit(\"Afegit Euro_Stoxx_50_Report.html automàticament\")\n",
    "    origin = repo.remote(name='origin')\n",
    "    origin.push()\n",
    "\n",
    "Report(df)"
   ]
  },
  {
   "cell_type": "markdown",
   "metadata": {},
   "source": [
    "Crear gàafiques per veure l'evolució dels preus en un període de temps. "
   ]
  },
  {
   "cell_type": "code",
   "execution_count": null,
   "metadata": {},
   "outputs": [
    {
     "name": "stderr",
     "output_type": "stream",
     "text": [
      "C:\\Users\\jesus\\AppData\\Local\\Temp\\ipykernel_17068\\2186282388.py:15: UserWarning: FigureCanvasAgg is non-interactive, and thus cannot be shown\n",
      "  plt.show()\n",
      "C:\\Users\\jesus\\AppData\\Local\\Temp\\ipykernel_17068\\2186282388.py:30: UserWarning: FigureCanvasAgg is non-interactive, and thus cannot be shown\n",
      "  plt.show()\n"
     ]
    }
   ],
   "source": [
    "def graph(df):\n",
    "    # Crear una còpia del dataframe amb \"Date\" com a índex, però sense eliminar la columna original\n",
    "    trainCSV_indexed = df.set_index('Date', drop=False)\n",
    "\n",
    "    # Representar gràficament les columnes Open, Close, Low i High amb la data com a eix X\n",
    "    trainCSV_indexed[['Open', 'Close', 'Low', 'High']].plot(figsize=(12, 6), grid=True)\n",
    "\n",
    "    # Afegir títol i etiquetes als eixos\n",
    "    plt.title('Evolució dels preus de les accions')\n",
    "    plt.xlabel('Data')\n",
    "    plt.ylabel('Preu')\n",
    "    plt.legend(title=\"Variables financeres\")  # Afegir llegenda\n",
    "\n",
    "    # Mostrar el gràfic\n",
    "    plt.show()\n",
    "\n",
    "    # Desar el gràfic com a imatge\n",
    "    plt.savefig('Conjunt de dades Preprocessades/Gràfiques Preus Històrics/Euro_Stoxx_50_grafic_accions.png')\n",
    "\n",
    "    # Representar gràficament la data versus el preu de tancament (Close) en vermell\n",
    "    df.plot('Date', 'Close', color=\"red\")\n",
    "\n",
    "    # Extreure només les 60 primeres files per fer el gràfic més clar\n",
    "    new_data = df.head(60)\n",
    "\n",
    "    # Representar gràficament la data versus el preu de tancament (Close) amb les 60 primeres files en verd\n",
    "    new_data.plot('Date', 'Close', color=\"green\")\n",
    "\n",
    "    # Mostrar el gràfic\n",
    "    plt.show()\n",
    "\n",
    "graph(df)"
   ]
  },
  {
   "cell_type": "markdown",
   "metadata": {},
   "source": [
    "Identificar outliers"
   ]
  },
  {
   "cell_type": "code",
   "execution_count": 8,
   "metadata": {},
   "outputs": [
    {
     "name": "stdout",
     "output_type": "stream",
     "text": [
      "Valors atípics a la columna Open: 0\n",
      "Valors atípics a la columna High: 0\n",
      "Valors atípics a la columna Low: 0\n",
      "Valors atípics a la columna Close: 0\n",
      "Valors atípics a la columna Volume: 70\n"
     ]
    }
   ],
   "source": [
    "\n",
    "# Identificar les columnes numèriques per comprovar si hi ha valors atípics\n",
    "numeric_columns = df.select_dtypes(include=['float64']).columns\n",
    "\n",
    "# Detectar valors atípics utilitzant el mètode del rang interquartílic (IQR)\n",
    "for column in numeric_columns:\n",
    "    Q1 = df[column].quantile(0.25)  # Primer quartil\n",
    "    Q3 = df[column].quantile(0.75)  # Tercer quartil\n",
    "    IQR = Q3 - Q1  # Rang interquartílic\n",
    "    outliers = df[(df[column] < (Q1 - 1.5 * IQR)) | (df[column] > (Q3 + 1.5 * IQR))]  # Condició per a valors atípics\n",
    "    print(f\"Valors atípics a la columna {column}: {len(outliers)}\")\n"
   ]
  },
  {
   "cell_type": "markdown",
   "metadata": {},
   "source": [
    "#### Feature Engineering (Creació de variables)."
   ]
  },
  {
   "cell_type": "code",
   "execution_count": 9,
   "metadata": {},
   "outputs": [],
   "source": [
    "# Funció per calcular la mitjana mòbil exponencial (EMA)\n",
    "def exponential_moving_average(data, period):\n",
    "    data = np.asarray(data)  # Convertir les dades a un array de NumPy\n",
    "    alpha = 2 / (period + 1)  # Càlcul del factor de suavitzat (alpha)\n",
    "    ema = np.empty_like(data)  \n",
    "    ema[0] = data[0]  # El primer valor de l'EMA és igual al primer valor de les dades\n",
    "\n",
    "    # Càlcul iteratiu de l'EMA per a cada punt\n",
    "    for i in range(1, len(data)):\n",
    "        ema[i] = alpha * data[i] + (1 - alpha) * ema[i - 1]\n",
    "\n",
    "    return ema  \n",
    "\n",
    "# Funció per visualitzar el preu i les mitjanes mòbils exponencials\n",
    "def graphic_exponential_moving_average(df):\n",
    "    plt.figure(figsize=(14, 6)) \n",
    "\n",
    "    # Determinar si \"Date\" és una columna o l'índex per usar-la com a eix X\n",
    "    if 'Date' in df.columns:\n",
    "        x = df['Date']\n",
    "    else:\n",
    "        x = df.index\n",
    "\n",
    "    # Dibuixar el preu de tancament\n",
    "    plt.plot(x, df['Close'], label='Preu de tancament', alpha=0.5)\n",
    "\n",
    "    # Dibuixar l'EMA de 7 dies (més sensible als canvis)\n",
    "    plt.plot(x, df['EMA_7'], label='EMA 7 dies', linestyle='--')\n",
    "\n",
    "    # Dibuixar l'EMA de 40 dies (més suau i lenta)\n",
    "    plt.plot(x, df['EMA_40'], label='EMA 40 dies', linestyle='--')\n",
    "\n",
    "    plt.xlabel('Data')\n",
    "    plt.ylabel('Preu')\n",
    "    plt.title('Preu de tancament i mitjanes mòbils exponencials')\n",
    "    plt.legend()\n",
    "    plt.grid(True)\n",
    "    plt.show()  \n"
   ]
  },
  {
   "cell_type": "code",
   "execution_count": 10,
   "metadata": {},
   "outputs": [
    {
     "name": "stderr",
     "output_type": "stream",
     "text": [
      "C:\\Users\\jesus\\AppData\\Local\\Temp\\ipykernel_17068\\4216627958.py:38: UserWarning: FigureCanvasAgg is non-interactive, and thus cannot be shown\n",
      "  plt.show()\n"
     ]
    }
   ],
   "source": [
    "\n",
    "df['EMA_7'] = exponential_moving_average(df['Close'], 7)\n",
    "df['EMA_40'] = exponential_moving_average(df['Close'], 40)\n",
    "graphic_exponential_moving_average(df)"
   ]
  },
  {
   "cell_type": "code",
   "execution_count": 11,
   "metadata": {},
   "outputs": [],
   "source": [
    "# Funció per calcular el MACD, la línia de senyal i l'histograma\n",
    "def calculate_macd(df, short_period=12, long_period=26, signal_period=9):\n",
    "    \n",
    "    # Calcular la mitjana mòbil exponencial curta i llarga del preu de tancament\n",
    "    ema_short = exponential_moving_average(df['Close'], short_period)\n",
    "    ema_long = exponential_moving_average(df['Close'], long_period)\n",
    "\n",
    "    # Calcular el MACD com la diferència entre les dues EMAs\n",
    "    macd = ema_short - ema_long\n",
    "\n",
    "    # Calcular la línia de senyal (mitjana suau del MACD)\n",
    "    signal_line = exponential_moving_average(macd, signal_period)\n",
    "\n",
    "    # Calcular l'histograma com la diferència entre el MACD i la línia de senyal\n",
    "    macd_hist = macd - signal_line\n",
    "\n",
    "    # Afegir les columnes resultants al DataFrame\n",
    "    df['MACD'] = macd\n",
    "    df['Signal_Line'] = signal_line\n",
    "    df['MACD_Hist'] = macd_hist\n",
    "\n",
    "    return df\n",
    "\n",
    "# Funció per visualitzar el MACD, la línia de senyal i l'histograma\n",
    "def calculate_macd_graph(df):\n",
    "    # Verifiquem si la columna \"Date\" existeix per utilitzar-la a l'eix X\n",
    "    if 'Date' in df.columns:\n",
    "        x = df['Date']\n",
    "    else:\n",
    "        x = df.index  # Si no, usem l'índex (suposadament dates també)\n",
    "\n",
    "    # Crear una nova figura per plotejar\n",
    "    plt.figure(figsize=(14,6))\n",
    "\n",
    "    # Dibuixar la línia del MACD\n",
    "    plt.plot(x, df['MACD'], label='MACD', color='blue')\n",
    "\n",
    "    # Dibuixar la línia de senyal\n",
    "    plt.plot(x, df['Signal_Line'], label='Línia de senyal', color='orange')\n",
    "\n",
    "    # Dibuixar l'histograma (com barres)\n",
    "    plt.bar(x, df['MACD_Hist'], label='Histograma', color='gray', alpha=0.3)\n",
    "\n",
    "    plt.title('MACD')\n",
    "    plt.legend()\n",
    "    plt.grid(True)\n",
    "    plt.tight_layout()\n",
    "\n",
    "    plt.show()\n"
   ]
  },
  {
   "cell_type": "code",
   "execution_count": 12,
   "metadata": {},
   "outputs": [
    {
     "name": "stderr",
     "output_type": "stream",
     "text": [
      "C:\\Users\\jesus\\AppData\\Local\\Temp\\ipykernel_17068\\4210167277.py:49: UserWarning: FigureCanvasAgg is non-interactive, and thus cannot be shown\n",
      "  plt.show()\n"
     ]
    }
   ],
   "source": [
    "\n",
    "df = calculate_macd(df)\n",
    "calculate_macd_graph(df)\n"
   ]
  },
  {
   "cell_type": "code",
   "execution_count": 13,
   "metadata": {},
   "outputs": [],
   "source": [
    "import numpy as np\n",
    "import pandas as pd\n",
    "\n",
    "# Calcula l'RSI utilitzant l'exponential weighted moving average (EWM) i afegeix una columna \"RSI\" al DataFrame.\n",
    "def calculate_rsi_ewm(df, period=14):\n",
    "    \n",
    "    delta = df['Close'].diff()  # Calcular la variació diària del preu de tancament\n",
    "\n",
    "    # Calcular els guanys i les pèrdues: els guanys són les variacions positives, les pèrdues són les negatives (en valor absolut)\n",
    "    gain = delta.clip(lower=0)\n",
    "    loss = -delta.clip(upper=0)\n",
    "\n",
    "    # Calcular la mitjana exponencial dels guanys i les pèrdues.\n",
    "    avg_gain = gain.ewm(alpha=1/period, adjust=False, min_periods=period).mean()\n",
    "    avg_loss = loss.ewm(alpha=1/period, adjust=False, min_periods=period).mean()\n",
    "\n",
    "    # Calcular la força relativa (RS)\n",
    "    rs = avg_gain / avg_loss\n",
    "\n",
    "    # Calcular l'RSI\n",
    "    rsi = 100 - (100 / (1 + rs))\n",
    "\n",
    "    df['RSI'] = rsi\n",
    "    \n",
    "    return df\n",
    "\n",
    "df = calculate_rsi_ewm(df, period=14)\n"
   ]
  },
  {
   "cell_type": "code",
   "execution_count": 14,
   "metadata": {},
   "outputs": [],
   "source": [
    "import pandas as pd\n",
    "import numpy as np\n",
    "\n",
    "#Calcula l'ATR (Average True Range) utilitzant el càlcul recursiu de Wilder.\n",
    "def calculate_atr_recursive(df, period=14):\n",
    " \n",
    "    # Calcular el True Range (TR)\n",
    "    high_low = df['High'] - df['Low']\n",
    "    high_prev_close = abs(df['High'] - df['Close'].shift(1))\n",
    "    low_prev_close = abs(df['Low'] - df['Close'].shift(1))\n",
    "    tr = pd.concat([high_low, high_prev_close, low_prev_close], axis=1).max(axis=1)\n",
    "    \n",
    "    atr_values = []  # Llista on anirem emmagatzemant els valors d'ATR\n",
    "    \n",
    "    # Per a les primeres 'period' files no es pot calcular ATR de manera recursiva\n",
    "    for i in range(len(tr)):\n",
    "        if i < period:\n",
    "            atr_values.append(np.nan)  # Assignem NaN fins que tinguem suficients dades\n",
    "        elif i == period:\n",
    "            # Primer valor d'ATR: mitjana simple dels TR dels primers 'period' dies\n",
    "            initial_atr = tr.iloc[i - period + 1:i + 1].mean()\n",
    "            atr_values.append(initial_atr)\n",
    "        else:\n",
    "            # Calcular l'ATR recursiu\n",
    "            atr_today = ((atr_values[i - 1] * (period - 1)) + tr.iloc[i]) / period\n",
    "            atr_values.append(atr_today)\n",
    "    \n",
    "    df['ATR'] = atr_values\n",
    "    return df\n",
    "\n",
    "\n",
    "df = calculate_atr_recursive(df, period=14)\n"
   ]
  },
  {
   "cell_type": "code",
   "execution_count": 15,
   "metadata": {},
   "outputs": [
    {
     "name": "stderr",
     "output_type": "stream",
     "text": [
      "C:\\Users\\jesus\\AppData\\Local\\Temp\\ipykernel_17068\\1042102371.py:2: FutureWarning: Series.fillna with 'method' is deprecated and will raise in a future version. Use obj.ffill() or obj.bfill() instead.\n",
      "  df['RSI'] = df['RSI'].fillna(method='bfill')\n",
      "C:\\Users\\jesus\\AppData\\Local\\Temp\\ipykernel_17068\\1042102371.py:3: FutureWarning: Series.fillna with 'method' is deprecated and will raise in a future version. Use obj.ffill() or obj.bfill() instead.\n",
      "  df['ATR'] = df['ATR'].fillna(method='bfill')\n"
     ]
    }
   ],
   "source": [
    "#Imputar els valors NaN amb el primer valor vàlid.\n",
    "df['RSI'] = df['RSI'].fillna(method='bfill')  \n",
    "df['ATR'] = df['ATR'].fillna(method='bfill')"
   ]
  },
  {
   "cell_type": "markdown",
   "metadata": {},
   "source": [
    "Guardar el dataset amb tots els canvis."
   ]
  },
  {
   "cell_type": "code",
   "execution_count": null,
   "metadata": {},
   "outputs": [],
   "source": [
    "df.to_csv(\"Conjunt de dades Preprocessades/Euro_Stoxx_50_Stock_Price_output.csv\", index=False)"
   ]
  }
 ],
 "metadata": {
  "kernelspec": {
   "display_name": "Python 3",
   "language": "python",
   "name": "python3"
  },
  "language_info": {
   "codemirror_mode": {
    "name": "ipython",
    "version": 3
   },
   "file_extension": ".py",
   "mimetype": "text/x-python",
   "name": "python",
   "nbconvert_exporter": "python",
   "pygments_lexer": "ipython3",
   "version": "3.10.0"
  }
 },
 "nbformat": 4,
 "nbformat_minor": 2
}
