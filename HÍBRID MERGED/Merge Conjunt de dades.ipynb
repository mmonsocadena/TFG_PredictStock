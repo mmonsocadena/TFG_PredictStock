{
 "cells": [
  {
   "cell_type": "markdown",
   "id": "dddbfd43",
   "metadata": {},
   "source": [
    "Codi per crear un únic conjunt de dades de diferents accions"
   ]
  },
  {
   "cell_type": "code",
   "execution_count": 1,
   "id": "fb78d484",
   "metadata": {},
   "outputs": [
    {
     "name": "stdout",
     "output_type": "stream",
     "text": [
      "Dataset ajuntat desat com: Merged_Stock_Dataset.csv\n"
     ]
    }
   ],
   "source": [
    "import pandas as pd\n",
    "import glob\n",
    "import os\n",
    "\n",
    "# Carpeta on tens els datasets CSV\n",
    "folder_path = 'Conjunt de dades Preprocessades/Datasets/'  \n",
    "output_file = 'Merged_Stock_Dataset.csv'\n",
    "\n",
    "# Llista de columnes d'interès\n",
    "features = [\"Open\",\"High\",\"Low\",\"Close\",\"Volume\",\n",
    "            \"EMA_7\",\"EMA_40\",\"MACD\",\"Signal_Line\",\n",
    "            \"MACD_Hist\",\"RSI\",\"ATR\"]\n",
    "\n",
    "# Llegeix tots els fitxers .csv dins la carpeta\n",
    "csv_files = glob.glob(os.path.join(folder_path, '*_Stock_Price_output.csv'))\n",
    "\n",
    "merged_data = []\n",
    "\n",
    "for file in csv_files:\n",
    "    # Llegeix el fitxer\n",
    "    df = pd.read_csv(file)\n",
    "\n",
    "    # Filtra només les columnes d'interès (més la columna de data si existeix)\n",
    "    if 'Date' in df.columns:\n",
    "        columns_to_use = ['Date'] + features\n",
    "    else:\n",
    "        columns_to_use = features\n",
    "\n",
    "    df = df[columns_to_use]\n",
    "\n",
    "    # Afegeix el nom de l'empresa/index com a nova columna\n",
    "    name = os.path.basename(file).replace('_Stock_Price_output.csv', '')\n",
    "    df['Asset'] = name\n",
    "\n",
    "    # Afegeix al conjunt\n",
    "    merged_data.append(df)\n",
    "\n",
    "# Uneix tots els datasets\n",
    "final_df = pd.concat(merged_data, ignore_index=True)\n",
    "\n",
    "# Converteix la data a format datetime si hi és\n",
    "if 'Date' in final_df.columns:\n",
    "    final_df['Date'] = pd.to_datetime(final_df['Date'])\n",
    "\n",
    "# Desa el dataset final\n",
    "final_df.to_csv(output_file, index=False)\n",
    "\n",
    "print(f'Dataset ajuntat desat com: {output_file}')\n"
   ]
  }
 ],
 "metadata": {
  "kernelspec": {
   "display_name": "Python 3",
   "language": "python",
   "name": "python3"
  },
  "language_info": {
   "codemirror_mode": {
    "name": "ipython",
    "version": 3
   },
   "file_extension": ".py",
   "mimetype": "text/x-python",
   "name": "python",
   "nbconvert_exporter": "python",
   "pygments_lexer": "ipython3",
   "version": "3.10.0"
  }
 },
 "nbformat": 4,
 "nbformat_minor": 5
}
